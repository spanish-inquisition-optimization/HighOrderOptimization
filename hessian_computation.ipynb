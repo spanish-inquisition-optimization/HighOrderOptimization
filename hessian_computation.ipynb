{
 "cells": [
  {
   "cell_type": "code",
   "execution_count": 1,
   "metadata": {
    "collapsed": true,
    "ExecuteTime": {
     "start_time": "2023-06-23T22:17:09.739591Z",
     "end_time": "2023-06-23T22:17:10.179503Z"
    }
   },
   "outputs": [],
   "source": [
    "from core.gradient_descent import wolfe_conditions_search, point_number_terminate_condition, fixed_step_search\n",
    "%load_ext autoreload\n",
    "%autoreload 2\n",
    "\n",
    "from core.high_order_optimization import *\n",
    "from core.optimizer_evaluator import *\n",
    "from core.utils import *\n",
    "from core.visualizer import *\n",
    "import numpy as np"
   ]
  },
  {
   "cell_type": "markdown",
   "source": [
    "# Вычисление $\\nabla^2 f$: Аналитически, численно"
   ],
   "metadata": {
    "collapsed": false
   }
  },
  {
   "cell_type": "code",
   "execution_count": 2,
   "outputs": [],
   "source": [
    "q = QuadraticForm(np.array([\n",
    "    [10, 2],\n",
    "    [2, 2]\n",
    "]))"
   ],
   "metadata": {
    "collapsed": false,
    "ExecuteTime": {
     "start_time": "2023-06-23T22:17:40.744181Z",
     "end_time": "2023-06-23T22:17:41.443769Z"
    }
   }
  },
  {
   "cell_type": "code",
   "execution_count": 3,
   "outputs": [
    {
     "data": {
      "text/plain": "array([76, 28])"
     },
     "execution_count": 3,
     "metadata": {},
     "output_type": "execute_result"
    }
   ],
   "source": [
    "x = np.array([3, 4])\n",
    "q.gradient_function()(x)"
   ],
   "metadata": {
    "collapsed": false,
    "ExecuteTime": {
     "start_time": "2023-06-23T22:17:45.872409Z",
     "end_time": "2023-06-23T22:17:45.935422Z"
    }
   }
  },
  {
   "cell_type": "code",
   "execution_count": 4,
   "outputs": [
    {
     "data": {
      "text/plain": "array([76., 28.])"
     },
     "execution_count": 4,
     "metadata": {},
     "output_type": "execute_result"
    }
   ],
   "source": [
    "symmetric_gradient_computer(q)(x)"
   ],
   "metadata": {
    "collapsed": false,
    "ExecuteTime": {
     "start_time": "2023-06-23T22:17:51.819923Z",
     "end_time": "2023-06-23T22:17:51.887937Z"
    }
   }
  },
  {
   "cell_type": "code",
   "execution_count": 5,
   "outputs": [
    {
     "data": {
      "text/plain": "array([[20,  4],\n       [ 4,  4]])"
     },
     "execution_count": 5,
     "metadata": {},
     "output_type": "execute_result"
    }
   ],
   "source": [
    "q.hessian_function()(x)"
   ],
   "metadata": {
    "collapsed": false,
    "ExecuteTime": {
     "start_time": "2023-06-23T22:17:55.738936Z",
     "end_time": "2023-06-23T22:17:55.810953Z"
    }
   }
  },
  {
   "cell_type": "code",
   "execution_count": 6,
   "outputs": [
    {
     "data": {
      "text/plain": "array([[20.00000165,  3.99985822],\n       [ 3.99985822,  3.99992928]])"
     },
     "execution_count": 6,
     "metadata": {},
     "output_type": "execute_result"
    }
   ],
   "source": [
    "symmetric_hessian_computer(q)(x)"
   ],
   "metadata": {
    "collapsed": false,
    "ExecuteTime": {
     "start_time": "2023-06-23T22:17:59.749327Z",
     "end_time": "2023-06-23T22:17:59.814342Z"
    }
   }
  },
  {
   "cell_type": "code",
   "execution_count": null,
   "outputs": [],
   "source": [],
   "metadata": {
    "collapsed": false
   }
  }
 ],
 "metadata": {
  "kernelspec": {
   "display_name": "Python 3",
   "language": "python",
   "name": "python3"
  },
  "language_info": {
   "codemirror_mode": {
    "name": "ipython",
    "version": 2
   },
   "file_extension": ".py",
   "mimetype": "text/x-python",
   "name": "python",
   "nbconvert_exporter": "python",
   "pygments_lexer": "ipython2",
   "version": "2.7.6"
  }
 },
 "nbformat": 4,
 "nbformat_minor": 0
}
