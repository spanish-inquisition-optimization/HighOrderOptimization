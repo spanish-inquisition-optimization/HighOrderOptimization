{
 "cells": [
  {
   "cell_type": "code",
   "execution_count": 44,
   "outputs": [
    {
     "name": "stdout",
     "output_type": "stream",
     "text": [
      "The autoreload extension is already loaded. To reload it, use:\n",
      "  %reload_ext autoreload\n"
     ]
    }
   ],
   "source": [
    "from core.gradient_descent import wolfe_conditions_search, point_number_terminate_condition, fixed_step_search\n",
    "%load_ext autoreload\n",
    "%autoreload 2\n",
    "\n",
    "from core.high_order_optimization import *\n",
    "from core.optimizer_evaluator import *\n",
    "from core.utils import *\n",
    "from core.visualizer import *\n",
    "import numpy as np"
   ],
   "metadata": {
    "collapsed": false,
    "ExecuteTime": {
     "start_time": "2023-06-23T19:41:42.723340Z",
     "end_time": "2023-06-23T19:41:42.855369Z"
    }
   }
  },
  {
   "cell_type": "code",
   "execution_count": 45,
   "outputs": [
    {
     "name": "stdout",
     "output_type": "stream",
     "text": [
      "symbolic grad argmin = [-0.30823297], approx grad argmin = [-0.3083785]\n"
     ]
    }
   ],
   "source": [
    "f1 = lambda x: np.exp(x[0])\n",
    "f2 = lambda x: np.sin(x[0])\n",
    "f3 = lambda x: np.exp(-(x[0] + 1))\n",
    "fs = [f1, f2, f3]\n",
    "\n",
    "df1 = lambda x: np.array([np.exp(x[0])])\n",
    "df2 = lambda x: np.array([np.cos(x[0])])\n",
    "df3 = lambda x: np.array([-np.exp(-(x[0] + 1))])\n",
    "dfs = [df1, df2, df3]\n",
    "\n",
    "x0 = np.array([10])\n",
    "\n",
    "termination = lambda f, points: len(points) > 20\n",
    "\n",
    "p1 = gauss_newton(fs, dfs, x0, termination)\n",
    "p2 = gauss_newton_with_approx_grad(fs, x0, termination)\n",
    "\n",
    "print(f\"symbolic grad argmin = {p1[-1]}, approx grad argmin = {p2[-1]}\")"
   ],
   "metadata": {
    "collapsed": false,
    "ExecuteTime": {
     "start_time": "2023-06-23T19:41:42.796355Z",
     "end_time": "2023-06-23T19:41:42.857370Z"
    }
   }
  },
  {
   "cell_type": "markdown",
   "source": [],
   "metadata": {
    "collapsed": false
   }
  },
  {
   "cell_type": "code",
   "execution_count": 189,
   "outputs": [],
   "source": [],
   "metadata": {
    "collapsed": false,
    "ExecuteTime": {
     "start_time": "2023-06-23T23:46:47.506414Z",
     "end_time": "2023-06-23T23:46:47.528406Z"
    }
   }
  }
 ],
 "metadata": {
  "kernelspec": {
   "display_name": "Python 3",
   "language": "python",
   "name": "python3"
  },
  "language_info": {
   "codemirror_mode": {
    "name": "ipython",
    "version": 2
   },
   "file_extension": ".py",
   "mimetype": "text/x-python",
   "name": "python",
   "nbconvert_exporter": "python",
   "pygments_lexer": "ipython2",
   "version": "2.7.6"
  }
 },
 "nbformat": 4,
 "nbformat_minor": 0
}
