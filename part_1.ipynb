{
 "cells": [
  {
   "cell_type": "code",
   "execution_count": 44,
   "outputs": [
    {
     "name": "stdout",
     "output_type": "stream",
     "text": [
      "The autoreload extension is already loaded. To reload it, use:\n",
      "  %reload_ext autoreload\n"
     ]
    }
   ],
   "source": [
    "from core.gradient_descent import wolfe_conditions_search, point_number_terminate_condition, fixed_step_search\n",
    "%load_ext autoreload\n",
    "%autoreload 2\n",
    "\n",
    "from core.high_order_optimization import *\n",
    "from core.optimizer_evaluator import *\n",
    "from core.utils import *\n",
    "from core.visualizer import *\n",
    "import numpy as np"
   ],
   "metadata": {
    "collapsed": false,
    "ExecuteTime": {
     "start_time": "2023-06-23T19:41:42.723340Z",
     "end_time": "2023-06-23T19:41:42.855369Z"
    }
   }
  },
  {
   "cell_type": "markdown",
   "source": [
    "# Нелинейная регрессия\n",
    "\n",
    "Минимизируем функцию, представленную в виде $$\n",
    "S(\\beta) = \\sum_{i = 0}^n r_i(\\beta)^2\n",
    "$$\n",
    "\n",
    "## Gauss-Newton метод\n",
    "\n",
    "\n",
    "\n",
    "## DogLeg метод\n",
    "\n",
    "Подход trust-region, строим квадратичную модель, стандартным образом$^*$ расширяем/сужаем trust region.\n",
    "\n",
    "Минимизация происходит так:\n",
    "- Для положительно определённой формы точка Коши находится на границе\n",
    "-\n"
   ],
   "metadata": {
    "collapsed": false
   }
  },
  {
   "cell_type": "code",
   "execution_count": 45,
   "outputs": [
    {
     "name": "stdout",
     "output_type": "stream",
     "text": [
      "symbolic grad argmin = [-0.30823297], approx grad argmin = [-0.3083785]\n"
     ]
    }
   ],
   "source": [
    "f1 = lambda x: np.exp(x[0])\n",
    "f2 = lambda x: np.sin(x[0])\n",
    "f3 = lambda x: np.exp(-(x[0] + 1))\n",
    "fs = [f1, f2, f3]\n",
    "\n",
    "df1 = lambda x: np.array([np.exp(x[0])])\n",
    "df2 = lambda x: np.array([np.cos(x[0])])\n",
    "df3 = lambda x: np.array([-np.exp(-(x[0] + 1))])\n",
    "dfs = [df1, df2, df3]\n",
    "\n",
    "x0 = np.array([10])\n",
    "\n",
    "termination = lambda f, points: len(points) > 20\n",
    "\n",
    "p1 = gauss_newton(fs, dfs, x0, termination)\n",
    "p2 = gauss_newton_with_approx_grad(fs, x0, termination)\n",
    "\n",
    "print(f\"symbolic grad argmin = {p1[-1]}, approx grad argmin = {p2[-1]}\")"
   ],
   "metadata": {
    "collapsed": false
   }
  },
  {
   "cell_type": "code",
   "execution_count": 35,
   "outputs": [
    {
     "name": "stdout",
     "output_type": "stream",
     "text": [
      "sd step = [ 0.6746426  -0.73814454], current = [-5.  5.]\n",
      "rho = 0.9400486851509245\n",
      "trusted = 2\n",
      "sd step = [ 1.35226729 -1.473558  ], current = [-4.3253574   4.26185546]\n",
      "rho = 0.9028530610051766\n",
      "trusted = 4\n",
      "sd step = [ 2.72444055 -2.9287239 ], current = [-2.97309012  2.78829746]\n",
      "rho = 15.786736445294656\n",
      "trusted = 8\n",
      "gn step\n",
      "rho = 0.9375000000000001\n",
      "trusted = 10\n",
      "gn step\n",
      "rho = 0.9375000000000001\n",
      "trusted = 10\n",
      "gn step\n",
      "rho = 0.9375000000000001\n",
      "trusted = 10\n"
     ]
    },
    {
     "data": {
      "text/plain": "[array([-5.,  5.]),\n array([-4.3253574 ,  4.26185546]),\n array([-2.97309012,  2.78829746]),\n array([-0.24864957, -0.14042645]),\n array([-0.12432478, -0.07021322]),\n array([-0.06216239, -0.03510661]),\n array([-0.0310812 , -0.01755331])]"
     },
     "execution_count": 35,
     "metadata": {},
     "output_type": "execute_result"
    }
   ],
   "source": [
    "f1 = generate_positive_definite_quadratic_form(2, 10, random_orthonormal_basis)\n",
    "f2 = generate_positive_definite_quadratic_form(2, 12, random_orthonormal_basis)\n",
    "\n",
    "df1 = f1.gradient_function()\n",
    "df2 = f2.gradient_function()\n",
    "\n",
    "dogleg([f1, f2], [df1, df2], 10, wolfe_conditions_search(0.1, 0.9), np.array([-5.0, 5.0]), lambda f, ps: f(ps[-1]) < 1e-5)"
   ],
   "metadata": {
    "collapsed": false
   }
  },
  {
   "cell_type": "markdown",
   "source": [],
   "metadata": {
    "collapsed": false
   }
  },
  {
   "cell_type": "code",
   "execution_count": 189,
   "outputs": [],
   "source": [],
   "metadata": {
    "collapsed": false,
    "ExecuteTime": {
     "start_time": "2023-06-23T23:46:47.506414Z",
     "end_time": "2023-06-23T23:46:47.528406Z"
    }
   }
  }
 ],
 "metadata": {
  "kernelspec": {
   "display_name": "Python 3",
   "language": "python",
   "name": "python3"
  },
  "language_info": {
   "codemirror_mode": {
    "name": "ipython",
    "version": 2
   },
   "file_extension": ".py",
   "mimetype": "text/x-python",
   "name": "python",
   "nbconvert_exporter": "python",
   "pygments_lexer": "ipython2",
   "version": "2.7.6"
  }
 },
 "nbformat": 4,
 "nbformat_minor": 0
}
