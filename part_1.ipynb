{
 "cells": [
  {
   "cell_type": "code",
   "execution_count": 96,
   "metadata": {
    "collapsed": true
   },
   "outputs": [
    {
     "name": "stdout",
     "output_type": "stream",
     "text": [
      "The autoreload extension is already loaded. To reload it, use:\n",
      "  %reload_ext autoreload\n"
     ]
    }
   ],
   "source": [
    "%load_ext autoreload\n",
    "%autoreload 2\n",
    "\n",
    "from core.high_order_optimization import *\n",
    "from core.optimizer_evaluator import *\n",
    "import numpy as np"
   ]
  },
  {
   "cell_type": "code",
   "execution_count": 97,
   "outputs": [
    {
     "name": "stdout",
     "output_type": "stream",
     "text": [
      "symbolic grad argmin = [-0.30823297], approx grad argmin = [-0.3083785]\n"
     ]
    }
   ],
   "source": [
    "f1 = lambda x: np.exp(x[0])\n",
    "f2 = lambda x: np.sin(x[0])\n",
    "f3 = lambda x: np.exp(-(x[0] + 1))\n",
    "fs = [f1, f2, f3]\n",
    "\n",
    "df1 = lambda x: np.array([np.exp(x[0])])\n",
    "df2 = lambda x: np.array([np.cos(x[0])])\n",
    "df3 = lambda x: np.array([-np.exp(-(x[0] + 1))])\n",
    "dfs = [df1, df2, df3]\n",
    "\n",
    "x0 = np.array([10])\n",
    "\n",
    "termination = lambda f, points: len(points) > 20\n",
    "\n",
    "p1 = gauss_newton(fs, dfs, x0, termination)\n",
    "p2 = gauss_newton_with_approx_grad(fs, x0, termination)\n",
    "\n",
    "print(f\"symbolic grad argmin = {p1[-1]}, approx grad argmin = {p2[-1]}\")"
   ],
   "metadata": {
    "collapsed": false
   }
  }
 ],
 "metadata": {
  "kernelspec": {
   "display_name": "Python 3",
   "language": "python",
   "name": "python3"
  },
  "language_info": {
   "codemirror_mode": {
    "name": "ipython",
    "version": 2
   },
   "file_extension": ".py",
   "mimetype": "text/x-python",
   "name": "python",
   "nbconvert_exporter": "python",
   "pygments_lexer": "ipython2",
   "version": "2.7.6"
  }
 },
 "nbformat": 4,
 "nbformat_minor": 0
}
